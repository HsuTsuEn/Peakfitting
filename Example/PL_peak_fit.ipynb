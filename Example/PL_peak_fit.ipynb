{
 "cells": [
  {
   "cell_type": "code",
   "execution_count": 18,
   "id": "78799a90",
   "metadata": {},
   "outputs": [
    {
     "name": "stderr",
     "output_type": "stream",
     "text": [
      "2023-09-15 11:41:30.728 python[26720:1202697] +[CATransaction synchronize] called within transaction\n"
     ]
    },
    {
     "name": "stdout",
     "output_type": "stream",
     "text": [
      "\n"
     ]
    }
   ],
   "source": [
    "import matplotlib.pyplot as plt\n",
    "import numpy as np\n",
    "import tkinter as tk\n",
    "from dataphile.datasets import SyntheticDataset\n",
    "from dataphile.statistics.distributions import polynomial1D\n",
    "from dataphile.statistics.regression.modeling import Parameter, Model, CompositeModel, AutoGUI\n",
    "from matplotlib import patches\n",
    "from dataphile.statistics.distributions import gaussian1D\n",
    "from dataphile.statistics.distributions import voigt1D\n",
    "from dataphile.statistics.distributions import lorentzian1D\n",
    "from pyspectra.readers.read_spc import read_spc\n",
    "from tkinter import filedialog\n",
    "root = tk.Tk()\n",
    "root.withdraw()\n",
    "f_path = filedialog.askopenfilename(initialdir=\"../\", title = \"Choose a file.\")\n",
    "print(f_path)\n",
    "root.quit()"
   ]
  },
  {
   "cell_type": "code",
   "execution_count": 19,
   "id": "0b0aa9f5",
   "metadata": {},
   "outputs": [
    {
     "name": "stdout",
     "output_type": "stream",
     "text": [
      "gx-y(1)\n"
     ]
    }
   ],
   "source": [
    "%matplotlib qt\n",
    "spc=read_spc(\"/Users/en/Library/CloudStorage/OneDrive-個人/桌面/All file/LAB/Sample/WS2/raman/20230912_polarization/raman/ws2_240s_1c_90deg.spc\")"
   ]
  },
  {
   "cell_type": "code",
   "execution_count": 20,
   "id": "1fb1bfb6",
   "metadata": {},
   "outputs": [],
   "source": [
    "#print(spc.index.to_numpy())\n",
    "#print(spc.values)\n",
    "datax = spc.index.to_numpy()\n",
    "datay = spc.values"
   ]
  },
  {
   "cell_type": "code",
   "execution_count": 21,
   "id": "ec287916",
   "metadata": {},
   "outputs": [
    {
     "name": "stdout",
     "output_type": "stream",
     "text": [
      "[(248.21134261592536, 293.4352418990362), (442.881238501762, 326.3455959683373)]\n"
     ]
    }
   ],
   "source": [
    "plt.plot(datax, datay)\n",
    "plt.title(\"Select the range\")\n",
    "fitrange = plt.ginput(2)\n",
    "print(fitrange)\n",
    "plt.close()"
   ]
  },
  {
   "cell_type": "code",
   "execution_count": 22,
   "id": "7031022e",
   "metadata": {},
   "outputs": [
    {
     "data": {
      "text/plain": [
       "Text(0.5, 1.0, 'Check have many peak you have?')"
      ]
     },
     "execution_count": 22,
     "metadata": {},
     "output_type": "execute_result"
    }
   ],
   "source": [
    "datax_i = datax[(datax>fitrange[0][0]) & (datax<fitrange[1][0])]\n",
    "datay_i = datay[(datax>fitrange[0][0]) & (datax<fitrange[1][0])]\n",
    "dataxmin = datax_i.min()\n",
    "dataxmax = datax_i.max()\n",
    "dataymax = datay_i.max()\n",
    "plt.plot(datax_i, datay_i)\n",
    "plt.title(\"Check have many peak you have?\")"
   ]
  },
  {
   "cell_type": "code",
   "execution_count": 23,
   "id": "10500cd4",
   "metadata": {},
   "outputs": [
    {
     "name": "stdout",
     "output_type": "stream",
     "text": [
      "How many peak you have?: 8\n",
      "8\n"
     ]
    }
   ],
   "source": [
    "plt.close()\n",
    "peaknb = input('How many peak you have?: ')\n",
    "print(peaknb)"
   ]
  },
  {
   "cell_type": "code",
   "execution_count": 29,
   "id": "a0a3abad",
   "metadata": {},
   "outputs": [
    {
     "name": "stdout",
     "output_type": "stream",
     "text": [
      "[(297.94499276970726, 407.3838012695312), (323.3433696608397, 663.7229504721504), (339.7016463025861, 854.613806261335), (349.6027084804852, 1907.24052532741), (352.61607523028056, 2059.9532099587573), (356.9208848728454, 1863.6083297184534), (385.33262851377333, 396.4757523672921), (417.6187008330095, 761.8953905923026)]\n"
     ]
    }
   ],
   "source": [
    "plt.title(\"Select the peak\")\n",
    "plt.plot(datax_i, datay_i)\n",
    "peakselectcenter = plt.ginput(int(peaknb))\n",
    "print(peakselectcenter)\n",
    "plt.close()"
   ]
  },
  {
   "cell_type": "code",
   "execution_count": 30,
   "id": "cf0ec182",
   "metadata": {},
   "outputs": [
    {
     "data": {
      "text/plain": [
       "\"bg = Model(polynomial1D,\\n          Parameter(value=100, bounds=(-20000, 20000),      label='scale'),\\n          Parameter(value=0,   bounds=(-100, 100),   label='slope'),\\n          Parameter(value=0,   bounds=(-5e-2, 5e-2), label='gradient'),\\n          label='background')\\n\\nmodeldistr = [Model(gaussian1D,\\n              Parameter(value=peakselectcenter[i][1], bounds=(0, dataymax),  label='amplitude'),\\n              Parameter(value=peakselectcenter[i][0], bounds=(dataxmin, dataxmax), label='center'),\\n              Parameter(value=10,  bounds=(0, 20),    label='width'),\\n              label='feature_'+str(i+1)) for i in range(int(peaknb))]\\n\\nmodel = CompositeModel(bg,*modeldistr,label='gaussian_peaks')\""
      ]
     },
     "execution_count": 30,
     "metadata": {},
     "output_type": "execute_result"
    }
   ],
   "source": [
    "'''bg = Model(polynomial1D,\n",
    "          Parameter(value=100, bounds=(-20000, 20000),      label='scale'),\n",
    "          Parameter(value=0,   bounds=(-100, 100),   label='slope'),\n",
    "          Parameter(value=0,   bounds=(-5e-2, 5e-2), label='gradient'),\n",
    "          label='background')\n",
    "\n",
    "modeldistr = [Model(gaussian1D,\n",
    "              Parameter(value=peakselectcenter[i][1], bounds=(0, dataymax),  label='amplitude'),\n",
    "              Parameter(value=peakselectcenter[i][0], bounds=(dataxmin, dataxmax), label='center'),\n",
    "              Parameter(value=10,  bounds=(0, 20),    label='width'),\n",
    "              label='feature_'+str(i+1)) for i in range(int(peaknb))]\n",
    "\n",
    "model = CompositeModel(bg,*modeldistr,label='gaussian_peaks')'''"
   ]
  },
  {
   "cell_type": "code",
   "execution_count": 31,
   "id": "947e55d6",
   "metadata": {},
   "outputs": [],
   "source": [
    "bg = Model(polynomial1D,\n",
    "          Parameter(value=100, bounds=(-20000, 20000),      label='scale'),\n",
    "          Parameter(value=0,   bounds=(-10, 10),   label='slope'),\n",
    "          Parameter(value=0,   bounds=(-5e-2, 5e-2), label='gradient'),\n",
    "          label='background')\n",
    "\n",
    "modeldistr = [Model(lorentzian1D,\n",
    "              Parameter(value=peakselectcenter[i][1], bounds=(0, dataymax*50),  label='amplitude'),\n",
    "              Parameter(value=peakselectcenter[i][0], bounds=(dataxmin, dataxmax), label='center'),\n",
    "              Parameter(value=10,  bounds=(0, 20),    label='width'),\n",
    "              label='feature_'+str(i+1)) for i in range(int(peaknb))]\n",
    "\n",
    "model = CompositeModel(bg,*modeldistr,label='gaussian_peaks')"
   ]
  },
  {
   "cell_type": "code",
   "execution_count": 32,
   "id": "a49ab04a",
   "metadata": {},
   "outputs": [
    {
     "data": {
      "text/plain": [
       "\"bg = Model(polynomial1D,\\n          Parameter(value=100, bounds=(-10000, 20000),      label='scale'),\\n          Parameter(value=0,   bounds=(-1, 1),   label='slope'),\\n          Parameter(value=0,   bounds=(-5e-5, 5e-5), label='gradient'),\\n          label='background')\\n\\nmodeldistr = [Model(voigt1D,\\n              Parameter(value=peakselectcenter[i][1], bounds=(0, dataymax),  label='amplitude'),\\n              Parameter(value=peakselectcenter[i][0], bounds=(dataxmin, dataxmax), label='center'),\\n              Parameter(value=10,  bounds=(0, 20),    label='width'),\\n              Parameter(value=10,  bounds=(0, 20),    label='gamma'),\\n              label='feature_'+str(i+1)) for i in range(int(peaknb))]\\nmodeldistr = [Model(voigt1D,\\n              Parameter(value=0.1, bounds=(0, dataymax),  label='amplitude'),\\n              Parameter(value=peakselectcenter[i][0], bounds=(dataxmin, dataxmax), label='center'),\\n              Parameter(value=0.1,  bounds=(0, 20),    label='width'),\\n              Parameter(value=0.1,  bounds=(0, 20),    label='gamma'),\\n              label='feature_'+str(i+1)) for i in range(int(peaknb))]\\n\\nmodel = CompositeModel(bg,*modeldistr,label='gaussian_peaks')\""
      ]
     },
     "execution_count": 32,
     "metadata": {},
     "output_type": "execute_result"
    }
   ],
   "source": [
    "'''bg = Model(polynomial1D,\n",
    "          Parameter(value=100, bounds=(-10000, 20000),      label='scale'),\n",
    "          Parameter(value=0,   bounds=(-1, 1),   label='slope'),\n",
    "          Parameter(value=0,   bounds=(-5e-5, 5e-5), label='gradient'),\n",
    "          label='background')\n",
    "\n",
    "modeldistr = [Model(voigt1D,\n",
    "              Parameter(value=peakselectcenter[i][1], bounds=(0, dataymax),  label='amplitude'),\n",
    "              Parameter(value=peakselectcenter[i][0], bounds=(dataxmin, dataxmax), label='center'),\n",
    "              Parameter(value=10,  bounds=(0, 20),    label='width'),\n",
    "              Parameter(value=10,  bounds=(0, 20),    label='gamma'),\n",
    "              label='feature_'+str(i+1)) for i in range(int(peaknb))]\n",
    "modeldistr = [Model(voigt1D,\n",
    "              Parameter(value=0.1, bounds=(0, dataymax),  label='amplitude'),\n",
    "              Parameter(value=peakselectcenter[i][0], bounds=(dataxmin, dataxmax), label='center'),\n",
    "              Parameter(value=0.1,  bounds=(0, 20),    label='width'),\n",
    "              Parameter(value=0.1,  bounds=(0, 20),    label='gamma'),\n",
    "              label='feature_'+str(i+1)) for i in range(int(peaknb))]\n",
    "\n",
    "model = CompositeModel(bg,*modeldistr,label='gaussian_peaks')'''"
   ]
  },
  {
   "cell_type": "code",
   "execution_count": 33,
   "id": "56c31069",
   "metadata": {},
   "outputs": [],
   "source": [
    "xsample = np.linspace(dataxmin, dataxmax, 1500)\n",
    "distr = modeldistr[0](xsample)"
   ]
  },
  {
   "cell_type": "code",
   "execution_count": 34,
   "id": "4536f45b",
   "metadata": {},
   "outputs": [],
   "source": [
    "figure = plt.figure('Gaussian Peaks Demonstration with AutoGUI', figsize=(18, 10))\n",
    "ax_1 = figure.add_axes([0.15, 0.14, 0.84, 0.70])\n",
    "data_graph, = ax_1.plot(datax_i, datay_i, color='black'\n",
    "                        , label='data',marker='o',linestyle='None',mfc='none',markersize=6)\n",
    "ax_1.set_ylabel('Counts', labelpad=5, fontweight='semibold')\n",
    "ax_1.set_xlabel('Channel', labelpad=5, fontweight='semibold')\n",
    "\n",
    "xsample = np.linspace(dataxmin, dataxmax, 1500)\n",
    "model_graph, = ax_1.plot(xsample, model(xsample), color='steelblue', label='model')\n",
    "ax_1.legend();\n",
    "ax_1.set_position([0.15, 0.30, 0.84, 0.65])\n",
    "\n",
    "gui = AutoGUI(model, [model_graph], bbox=[0.20, 0.06, 0.75, 0.15], figure=figure,\n",
    "              slider_options={'color': 'steelblue'}, data=(datax, datay));"
   ]
  },
  {
   "cell_type": "code",
   "execution_count": 38,
   "id": "c85f1861",
   "metadata": {},
   "outputs": [
    {
     "name": "stdout",
     "output_type": "stream",
     "text": [
      "8\n"
     ]
    },
    {
     "data": {
      "text/plain": [
       "<matplotlib.legend.Legend at 0x28f95dad0>"
      ]
     },
     "execution_count": 38,
     "metadata": {},
     "output_type": "execute_result"
    }
   ],
   "source": [
    "import matplotlib.colors as mcolors\n",
    "xsample = np.linspace(dataxmin, dataxmax, 1500)\n",
    "\n",
    "figure2 = plt.figure('Gaussian Peaks Demonstration with multipeak', figsize=(18, 10))\n",
    "ax_1 = figure2.add_axes([0.15, 0.14, 0.84, 0.70])\n",
    "data_graph, = ax_1.plot(datax_i, datay_i, color='black'\n",
    "                        , label='data',marker='o',linestyle='None',mfc='none',markersize=6)\n",
    "ax_1.set_ylabel('Counts', labelpad=5, fontweight='semibold')\n",
    "ax_1.set_xlabel('Channel', labelpad=5, fontweight='semibold')\n",
    "\n",
    "colors = ['r','b','c','m','gray','#d6e0ce','#f28ab2','#899e78','#2985b3','#781a6a']\n",
    "\n",
    "model_graph, = ax_1.plot(xsample, model(xsample), color='#66c4ff', label='fitting',lw=2)\n",
    "model_graph, = ax_1.plot(xsample, bg(xsample), color='yellow', label='bg',lw=2)\n",
    "print(peaknb)\n",
    "for i in range(int(peaknb)):\n",
    "    model_graph, = ax_1.plot(xsample, modeldistr[i](xsample)+bg(xsample), \n",
    "                             color=colors[i], label='peak'+ str(i),lw=2)\n",
    "plt.legend(loc='best')"
   ]
  },
  {
   "cell_type": "code",
   "execution_count": 36,
   "id": "5f5e021d",
   "metadata": {},
   "outputs": [
    {
     "data": {
      "text/html": [
       "<div>\n",
       "<style scoped>\n",
       "    .dataframe tbody tr th:only-of-type {\n",
       "        vertical-align: middle;\n",
       "    }\n",
       "\n",
       "    .dataframe tbody tr th {\n",
       "        vertical-align: top;\n",
       "    }\n",
       "\n",
       "    .dataframe thead th {\n",
       "        text-align: right;\n",
       "    }\n",
       "</style>\n",
       "<table border=\"1\" class=\"dataframe\">\n",
       "  <thead>\n",
       "    <tr style=\"text-align: right;\">\n",
       "      <th></th>\n",
       "      <th></th>\n",
       "      <th>value</th>\n",
       "      <th>uncertainty</th>\n",
       "    </tr>\n",
       "    <tr>\n",
       "      <th>model</th>\n",
       "      <th>parameter</th>\n",
       "      <th></th>\n",
       "      <th></th>\n",
       "    </tr>\n",
       "  </thead>\n",
       "  <tbody>\n",
       "    <tr>\n",
       "      <th rowspan=\"3\" valign=\"top\">background</th>\n",
       "      <th>scale</th>\n",
       "      <td>461.348030</td>\n",
       "      <td>39.954852</td>\n",
       "    </tr>\n",
       "    <tr>\n",
       "      <th>slope</th>\n",
       "      <td>-1.138732</td>\n",
       "      <td>0.241314</td>\n",
       "    </tr>\n",
       "    <tr>\n",
       "      <th>gradient</th>\n",
       "      <td>0.001887</td>\n",
       "      <td>0.000325</td>\n",
       "    </tr>\n",
       "    <tr>\n",
       "      <th rowspan=\"3\" valign=\"top\">feature_1</th>\n",
       "      <th>amplitude</th>\n",
       "      <td>1421.015545</td>\n",
       "      <td>332.410554</td>\n",
       "    </tr>\n",
       "    <tr>\n",
       "      <th>center</th>\n",
       "      <td>298.138085</td>\n",
       "      <td>0.745171</td>\n",
       "    </tr>\n",
       "    <tr>\n",
       "      <th>width</th>\n",
       "      <td>8.083330</td>\n",
       "      <td>2.372733</td>\n",
       "    </tr>\n",
       "    <tr>\n",
       "      <th rowspan=\"3\" valign=\"top\">feature_2</th>\n",
       "      <th>amplitude</th>\n",
       "      <td>6595.554462</td>\n",
       "      <td>1410.106703</td>\n",
       "    </tr>\n",
       "    <tr>\n",
       "      <th>center</th>\n",
       "      <td>325.922918</td>\n",
       "      <td>0.605456</td>\n",
       "    </tr>\n",
       "    <tr>\n",
       "      <th>width</th>\n",
       "      <td>13.886873</td>\n",
       "      <td>2.094276</td>\n",
       "    </tr>\n",
       "    <tr>\n",
       "      <th rowspan=\"3\" valign=\"top\">feature_3</th>\n",
       "      <th>amplitude</th>\n",
       "      <td>6222.734020</td>\n",
       "      <td>8958.566397</td>\n",
       "    </tr>\n",
       "    <tr>\n",
       "      <th>center</th>\n",
       "      <td>343.069323</td>\n",
       "      <td>4.051254</td>\n",
       "    </tr>\n",
       "    <tr>\n",
       "      <th>width</th>\n",
       "      <td>15.130589</td>\n",
       "      <td>8.643528</td>\n",
       "    </tr>\n",
       "    <tr>\n",
       "      <th rowspan=\"3\" valign=\"top\">feature_4</th>\n",
       "      <th>amplitude</th>\n",
       "      <td>13075.969096</td>\n",
       "      <td>19625.214114</td>\n",
       "    </tr>\n",
       "    <tr>\n",
       "      <th>center</th>\n",
       "      <td>351.009255</td>\n",
       "      <td>1.827214</td>\n",
       "    </tr>\n",
       "    <tr>\n",
       "      <th>width</th>\n",
       "      <td>9.655229</td>\n",
       "      <td>5.608070</td>\n",
       "    </tr>\n",
       "    <tr>\n",
       "      <th rowspan=\"3\" valign=\"top\">feature_5</th>\n",
       "      <th>amplitude</th>\n",
       "      <td>9759.369824</td>\n",
       "      <td>18391.934477</td>\n",
       "    </tr>\n",
       "    <tr>\n",
       "      <th>center</th>\n",
       "      <td>355.280099</td>\n",
       "      <td>0.556449</td>\n",
       "    </tr>\n",
       "    <tr>\n",
       "      <th>width</th>\n",
       "      <td>6.606417</td>\n",
       "      <td>5.147555</td>\n",
       "    </tr>\n",
       "    <tr>\n",
       "      <th rowspan=\"3\" valign=\"top\">feature_6</th>\n",
       "      <th>amplitude</th>\n",
       "      <td>7012.618898</td>\n",
       "      <td>7438.316259</td>\n",
       "    </tr>\n",
       "    <tr>\n",
       "      <th>center</th>\n",
       "      <td>358.786659</td>\n",
       "      <td>1.380953</td>\n",
       "    </tr>\n",
       "    <tr>\n",
       "      <th>width</th>\n",
       "      <td>7.717922</td>\n",
       "      <td>1.475528</td>\n",
       "    </tr>\n",
       "    <tr>\n",
       "      <th rowspan=\"3\" valign=\"top\">feature_7</th>\n",
       "      <th>amplitude</th>\n",
       "      <td>328.291018</td>\n",
       "      <td>259.771025</td>\n",
       "    </tr>\n",
       "    <tr>\n",
       "      <th>center</th>\n",
       "      <td>385.323965</td>\n",
       "      <td>1.677377</td>\n",
       "    </tr>\n",
       "    <tr>\n",
       "      <th>width</th>\n",
       "      <td>5.226464</td>\n",
       "      <td>5.198903</td>\n",
       "    </tr>\n",
       "    <tr>\n",
       "      <th rowspan=\"3\" valign=\"top\">feature_8</th>\n",
       "      <th>amplitude</th>\n",
       "      <td>5327.732763</td>\n",
       "      <td>283.958298</td>\n",
       "    </tr>\n",
       "    <tr>\n",
       "      <th>center</th>\n",
       "      <td>418.530537</td>\n",
       "      <td>0.135439</td>\n",
       "    </tr>\n",
       "    <tr>\n",
       "      <th>width</th>\n",
       "      <td>6.288795</td>\n",
       "      <td>0.423595</td>\n",
       "    </tr>\n",
       "  </tbody>\n",
       "</table>\n",
       "</div>"
      ],
      "text/plain": [
       "                             value   uncertainty\n",
       "model      parameter                            \n",
       "background scale        461.348030     39.954852\n",
       "           slope         -1.138732      0.241314\n",
       "           gradient       0.001887      0.000325\n",
       "feature_1  amplitude   1421.015545    332.410554\n",
       "           center       298.138085      0.745171\n",
       "           width          8.083330      2.372733\n",
       "feature_2  amplitude   6595.554462   1410.106703\n",
       "           center       325.922918      0.605456\n",
       "           width         13.886873      2.094276\n",
       "feature_3  amplitude   6222.734020   8958.566397\n",
       "           center       343.069323      4.051254\n",
       "           width         15.130589      8.643528\n",
       "feature_4  amplitude  13075.969096  19625.214114\n",
       "           center       351.009255      1.827214\n",
       "           width          9.655229      5.608070\n",
       "feature_5  amplitude   9759.369824  18391.934477\n",
       "           center       355.280099      0.556449\n",
       "           width          6.606417      5.147555\n",
       "feature_6  amplitude   7012.618898   7438.316259\n",
       "           center       358.786659      1.380953\n",
       "           width          7.717922      1.475528\n",
       "feature_7  amplitude    328.291018    259.771025\n",
       "           center       385.323965      1.677377\n",
       "           width          5.226464      5.198903\n",
       "feature_8  amplitude   5327.732763    283.958298\n",
       "           center       418.530537      0.135439\n",
       "           width          6.288795      0.423595"
      ]
     },
     "execution_count": 36,
     "metadata": {},
     "output_type": "execute_result"
    }
   ],
   "source": [
    "model.summary()"
   ]
  },
  {
   "cell_type": "code",
   "execution_count": 37,
   "id": "46fcabca",
   "metadata": {},
   "outputs": [
    {
     "name": "stderr",
     "output_type": "stream",
     "text": [
      "2023-09-15 11:43:24.115 python[26720:1202697] +[CATransaction synchronize] called within transaction\n"
     ]
    },
    {
     "name": "stdout",
     "output_type": "stream",
     "text": [
      "\n"
     ]
    }
   ],
   "source": [
    "folder_selected = filedialog.askdirectory()\n",
    "print(folder_selected)\n",
    "root.quit()"
   ]
  },
  {
   "cell_type": "code",
   "execution_count": 108,
   "id": "fe73cc8b",
   "metadata": {},
   "outputs": [
    {
     "name": "stdout",
     "output_type": "stream",
     "text": [
      "How many peak you have?: 60deg-2\n",
      "60deg-2\n"
     ]
    }
   ],
   "source": [
    "figfilename = input('How many peak you have?: ')\n",
    "print(figfilename)"
   ]
  },
  {
   "cell_type": "code",
   "execution_count": 109,
   "id": "b9c9620c",
   "metadata": {},
   "outputs": [],
   "source": [
    "model.summary().to_csv(folder_selected+\"/\"+figfilename+\".csv\", encoding='utf-8')"
   ]
  },
  {
   "cell_type": "code",
   "execution_count": null,
   "id": "1bd240b4",
   "metadata": {},
   "outputs": [],
   "source": []
  },
  {
   "cell_type": "code",
   "execution_count": null,
   "id": "fd73730f",
   "metadata": {},
   "outputs": [],
   "source": []
  }
 ],
 "metadata": {
  "kernelspec": {
   "display_name": "Python 3 (ipykernel)",
   "language": "python",
   "name": "python3"
  },
  "language_info": {
   "codemirror_mode": {
    "name": "ipython",
    "version": 3
   },
   "file_extension": ".py",
   "mimetype": "text/x-python",
   "name": "python",
   "nbconvert_exporter": "python",
   "pygments_lexer": "ipython3",
   "version": "3.11.3"
  }
 },
 "nbformat": 4,
 "nbformat_minor": 5
}
